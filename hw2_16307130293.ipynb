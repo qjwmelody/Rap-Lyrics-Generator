{
 "cells": [
  {
   "cell_type": "markdown",
   "metadata": {},
   "source": [
    "## hw2"
   ]
  },
  {
   "cell_type": "markdown",
   "metadata": {},
   "source": [
    "#### 1.\t使用古腾堡语料库模块处理austen-emma.txt。这本书中有多少个词？多少个不同的词？"
   ]
  },
  {
   "cell_type": "code",
   "execution_count": 1,
   "metadata": {},
   "outputs": [],
   "source": [
    "import nltk\n",
    "nltk.corpus.gutenberg.fileids()\n",
    "emma=nltk.corpus.gutenberg.words('austen-emma.txt')"
   ]
  },
  {
   "cell_type": "code",
   "execution_count": 2,
   "metadata": {},
   "outputs": [
    {
     "name": "stdout",
     "output_type": "stream",
     "text": [
      "the number of words used in emma is: 192427\n",
      "the number of different words used in emma is: 7344\n"
     ]
    }
   ],
   "source": [
    "print(\"the number of words used in emma is: %d\" %len(emma))\n",
    "print(\"the number of different words used in emma is: %d\" %len(set(w.lower() for w in emma)))"
   ]
  },
  {
   "cell_type": "markdown",
   "metadata": {},
   "source": [
    "#### 2.\t写一个程序，输出一个文本中50 个最常见的Bigram，忽略包含stopword的bigram。"
   ]
  },
  {
   "cell_type": "code",
   "execution_count": 3,
   "metadata": {},
   "outputs": [
    {
     "data": {
      "text/plain": [
       "[('mr', 'knightley'),\n",
       " ('mrs', 'weston'),\n",
       " ('mr', 'elton'),\n",
       " ('miss', 'woodhouse'),\n",
       " ('mr', 'weston'),\n",
       " ('frank', 'churchill'),\n",
       " ('mrs', 'elton'),\n",
       " ('mr', 'woodhouse'),\n",
       " ('every', 'thing'),\n",
       " ('miss', 'fairfax'),\n",
       " ('miss', 'bates'),\n",
       " ('jane', 'fairfax'),\n",
       " ('every', 'body'),\n",
       " ('young', 'man'),\n",
       " ('great', 'deal'),\n",
       " ('emma', 'could'),\n",
       " ('said', 'emma'),\n",
       " ('mrs', 'goddard'),\n",
       " ('miss', 'smith'),\n",
       " ('john', 'knightley'),\n",
       " ('dare', 'say'),\n",
       " ('mr', 'frank'),\n",
       " ('miss', 'taylor'),\n",
       " ('mrs', 'churchill'),\n",
       " ('said', 'mr'),\n",
       " ('mr', 'perry'),\n",
       " ('mr', 'martin'),\n",
       " ('dear', 'emma'),\n",
       " ('mrs', 'cole'),\n",
       " ('mrs', 'bates'),\n",
       " ('harriet', 'smith'),\n",
       " ('robert', 'martin'),\n",
       " ('maple', 'grove'),\n",
       " ('mr', 'john'),\n",
       " ('colonel', 'campbell'),\n",
       " ('cried', 'emma'),\n",
       " ('oh', 'yes'),\n",
       " ('dear', 'miss'),\n",
       " ('mr', 'dixon'),\n",
       " ('young', 'woman'),\n",
       " ('mr', 'cole'),\n",
       " ('young', 'lady'),\n",
       " ('body', 'else'),\n",
       " ('depend', 'upon'),\n",
       " ('good', 'deal'),\n",
       " ('mr', 'churchill'),\n",
       " ('emma', 'felt'),\n",
       " ('take', 'care'),\n",
       " ('miss', 'hawkins'),\n",
       " ('box', 'hill')]"
      ]
     },
     "execution_count": 3,
     "metadata": {},
     "output_type": "execute_result"
    }
   ],
   "source": [
    "import nltk\n",
    "from nltk import *\n",
    "emma=nltk.corpus.gutenberg.words('austen-emma.txt')\n",
    "bigram_words=nltk.bigrams([w.lower() for w in emma if w.isalpha()])\n",
    "stopwords=nltk.corpus.stopwords.words('english')\n",
    "bwords=[w for w in bigram_words if w[0] not in stopwords and w[1] not in stopwords]\n",
    "fdist=FreqDist(bwords)\n",
    "[w[0] for w in fdist.most_common(50)]"
   ]
  },
  {
   "cell_type": "markdown",
   "metadata": {},
   "source": [
    "#### 3.  改进随机文本生成程序，选择特定的文体，如：布朗语料库中的一部分或者《创世纪》或者古腾堡语料库中的文本。在此语料上训练一个模型，产生随机文本。可能要实验不同的起始单词。文本的可理解性如何？讨论这种方法产生随机文本的长处和短处。（任选）"
   ]
  },
  {
   "cell_type": "code",
   "execution_count": 4,
   "metadata": {},
   "outputs": [],
   "source": [
    "import nltk\n",
    "import random\n",
    "from nltk import *"
   ]
  },
  {
   "cell_type": "code",
   "execution_count": 5,
   "metadata": {},
   "outputs": [],
   "source": [
    "def choice(cfdist, word, n):\n",
    "    all_choices=[w for w in cfdist[word].most_common(n)]\n",
    "    choice=random.choice(all_choices)\n",
    "    return choice[0]"
   ]
  },
  {
   "cell_type": "code",
   "execution_count": 6,
   "metadata": {},
   "outputs": [],
   "source": [
    "def generate_model(cfdist, word, num=3, len=15):\n",
    "    for i in range(len):\n",
    "        print(word, end=' ')\n",
    "        word=choice(cfdist, word,num)"
   ]
  },
  {
   "cell_type": "code",
   "execution_count": 7,
   "metadata": {},
   "outputs": [],
   "source": [
    "text=nltk.corpus.genesis.words('english-kjv.txt')\n",
    "bigrams=nltk.bigrams(text)\n",
    "cfd=nltk.ConditionalFreqDist(bigrams)"
   ]
  },
  {
   "cell_type": "code",
   "execution_count": 8,
   "metadata": {},
   "outputs": [
    {
     "name": "stdout",
     "output_type": "stream",
     "text": [
      "living creature of the LORD said , that he was in his father , that "
     ]
    }
   ],
   "source": [
    "generate_model(cfd, 'living')"
   ]
  },
  {
   "cell_type": "code",
   "execution_count": 9,
   "metadata": {},
   "outputs": [
    {
     "name": "stdout",
     "output_type": "stream",
     "text": [
      "living thing , I will I have I pray for I have done this land . Then Joseph ' s wife , that thou shalt not be for a son , and he had done . Then Jacob , and the land . Now the earth . Now the earth "
     ]
    }
   ],
   "source": [
    "generate_model(cfd, 'living',3,50)"
   ]
  },
  {
   "cell_type": "code",
   "execution_count": 10,
   "metadata": {},
   "outputs": [
    {
     "name": "stdout",
     "output_type": "stream",
     "text": [
      "living creature after he was the earth , and he said , and he was the land . And they were born in unto his brethren . Now the land , and the land , and the LORD God of my son . And the earth ; for I will I pray thee , that I have done . Then Abraham said , I pray you . Now therefore , I will I will give thee ; And he said to pass after his brethren , that I will I will I pray thee . Now the earth . Then Abraham , I will I pray thee . Then Joseph , I will give thee ; for the earth , and the LORD God said , and he was the earth , and the earth ; and said , I have I will give it , and the land , I pray for a son , that I pray for the LORD , and said unto his wife , I will give it , I will not to him . And they had said to him ; And he said to him ; And the earth , that thou art "
     ]
    }
   ],
   "source": [
    "generate_model(cfd, 'living',3,200)"
   ]
  },
  {
   "cell_type": "code",
   "execution_count": 11,
   "metadata": {},
   "outputs": [
    {
     "name": "stdout",
     "output_type": "stream",
     "text": [
      "living substance . Now these were born in the LORD hath taken away , I have done this is in his brethren : the earth ; And it , that the sons and said unto the sons ' journey prosperous man , and he had said in unto the land wherein is the sons of Egypt unto them ; And they said , I pray for the earth , that thou shalt be thy seed ; for he begat Eber . Then Joseph , that thou shalt thou shalt be a wife . And the sons and they had , I am old when they said in his name of Egypt unto the sons ' journey , and he begat Lamech said in the sons of my father . And he was with the sons of Egypt . Now therefore , that he had made him ; but he had made a son , that I pray for I am old when he said to be for he said to him , I am I will give it shall I have done unto them . And it shall I am thy father , and they had done unto them , "
     ]
    }
   ],
   "source": [
    "generate_model(cfd, 'living',4,200)"
   ]
  },
  {
   "cell_type": "code",
   "execution_count": 12,
   "metadata": {},
   "outputs": [
    {
     "name": "stdout",
     "output_type": "stream",
     "text": [
      "living . Then Joseph , which he was good for I am thy brother . Then Joseph , I have done unto him , the land . Now the sons with you ; because thou , that the earth ; for I am . So God hath said one of my covenant , the sons , I am old when thou hast shewed thee ; and they came unto me . So God had not be thy father , I will I am . Then Abimelech called it was with him . So Abraham . And the earth ; for a great whales , and they were with me and his name , the land wherein thou hast not . Now therefore the land . Then Abimelech king over before thee ? for a great and they were the name of the name shall be with him to the LORD said , I will not eat , the earth ; and they were with the sons ' journey betwixt drove by her to pass at the LORD , the land , that I pray thee , which was a great lights ; but the earth , and he was in "
     ]
    }
   ],
   "source": [
    "generate_model(cfd, 'living',5,200)"
   ]
  },
  {
   "cell_type": "code",
   "execution_count": 13,
   "metadata": {},
   "outputs": [
    {
     "name": "stdout",
     "output_type": "stream",
     "text": [
      "my son of my father ' journey , I will give thee ; And the earth , that thou hast not be a son of my son of his father , and the earth . And he said , and said unto the LORD said , and said unto the earth , that thou shalt thou art a son . And the LORD said , I pray for the LORD said to the earth . Now therefore , and the earth , I pray you , and said , and said to the earth ; And he had done unto his wife . Then Jacob ' s son . Now the earth , that thou art a man ; for the land of the land . Now the earth , and he had said unto his brethren , and he was the land . Now therefore , that thou art my father , and said , that thou hast done this land , and said , and the land . Then Jacob said , and said , that he said unto the LORD said unto the land , I will give thee , and said unto him ; and he "
     ]
    }
   ],
   "source": [
    "generate_model(cfd, 'my',3,200)"
   ]
  },
  {
   "cell_type": "code",
   "execution_count": 14,
   "metadata": {},
   "outputs": [
    {
     "name": "stdout",
     "output_type": "stream",
     "text": [
      "lord , I pray thee , and said to pass in unto his brethren . Now therefore she said , I pray for a wife ; And they had said unto his father , I will not to him . Now therefore let them . And they said to the earth , and the land of the earth , I have done unto him . And they said , I pray you . Then Jacob , and he had made a man ; And he had said unto his father ' s wife ; and the LORD , that thou art thou shalt thou art thou shalt not be a man ; and said to pass in the land of the land . Now the LORD God of his father of my lord ' journey prosperous man ' journey prosperous man , and he had done unto the earth ; and said , and the LORD said unto his brethren ; for the earth ; And the LORD , I will give thee , I will give me , that I will not be a man ; And the land of my son , I will not to pass , "
     ]
    }
   ],
   "source": [
    "generate_model(cfd, 'lord',3,200)"
   ]
  },
  {
   "cell_type": "markdown",
   "metadata": {},
   "source": [
    "#### 改进思路：\n",
    "课本例2-1设置下文为最可能的标识符(使用max())存在的问题是会在循环中卡住，所以采用另一种方法即使用random.choice()从可用的词汇中随机选择下一个词。两个参数可以自定义：num是从频率最高的几种搭配中选取下文，该值越大，句子多样性越好，但因为用了不常用的搭配可能会偏离原意；len定义生成文本的长度，较短时结果不理想，达到一定长度时(例如200)文本的理解性较好，句子内部比较连贯，但是上下句之间没有什么联系的问题仍没有解决。\n",
    "#### 相比原来的优缺点：\n",
    "优点：由于下文选择较多，出现循环的概率比较小；缺点：由于选择的下文不是最常出现的，产生的文本意思不够通顺"
   ]
  }
 ],
 "metadata": {
  "kernelspec": {
   "display_name": "Python 3",
   "language": "python",
   "name": "python3"
  },
  "language_info": {
   "codemirror_mode": {
    "name": "ipython",
    "version": 3
   },
   "file_extension": ".py",
   "mimetype": "text/x-python",
   "name": "python",
   "nbconvert_exporter": "python",
   "pygments_lexer": "ipython3",
   "version": "3.6.2"
  }
 },
 "nbformat": 4,
 "nbformat_minor": 2
}
