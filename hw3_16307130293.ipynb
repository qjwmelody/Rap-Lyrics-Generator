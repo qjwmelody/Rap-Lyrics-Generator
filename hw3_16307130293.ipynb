{
 "cells": [
  {
   "cell_type": "markdown",
   "metadata": {},
   "source": [
    "## hw3"
   ]
  },
  {
   "cell_type": "markdown",
   "metadata": {},
   "source": [
    "#### 1. 说明以下的正则表达式匹配的字符串类： [a-zA-Z]+； [A-Z] [a-z]\\*； p[aeiou]{,2}t； \\d+(\\\\.\\d+)?；([^aeiou][aeiou] [^aeiou])\\*；\\w+|[^\\w\\s]+。使用nltk.re_show()测试你的答案。"
   ]
  },
  {
   "cell_type": "code",
   "execution_count": 1,
   "metadata": {},
   "outputs": [],
   "source": [
    "import nltk\n",
    "from nltk import *"
   ]
  },
  {
   "cell_type": "markdown",
   "metadata": {},
   "source": [
    "a.\t一个或多个大小写字母，即一个字母字符串  "
   ]
  },
  {
   "cell_type": "code",
   "execution_count": 2,
   "metadata": {},
   "outputs": [
    {
     "name": "stdout",
     "output_type": "stream",
     "text": [
      "{qwerty}123*#{a}9{poiuy}\n"
     ]
    }
   ],
   "source": [
    "nltk.re_show('[a-zA-Z]+','qwerty123*#a9poiuy')"
   ]
  },
  {
   "cell_type": "markdown",
   "metadata": {},
   "source": [
    "b.\t一个大写字母和零或多个小写字母，即一个首字母大写的词  "
   ]
  },
  {
   "cell_type": "code",
   "execution_count": 3,
   "metadata": {},
   "outputs": [
    {
     "name": "stdout",
     "output_type": "stream",
     "text": [
      "0x7{As}{D}{Fg}%{Hjkl};\n"
     ]
    }
   ],
   "source": [
    "nltk.re_show('[A-Z][a-z]*','0x7AsDFg%Hjkl;')"
   ]
  },
  {
   "cell_type": "markdown",
   "metadata": {},
   "source": [
    "c.\t以p开头，t结尾，中间有0-2个元音字母的词，例如pt, pet, poot"
   ]
  },
  {
   "cell_type": "code",
   "execution_count": 4,
   "metadata": {},
   "outputs": [
    {
     "name": "stdout",
     "output_type": "stream",
     "text": [
      "{pt}0Pt1pmt2{pat}3pert{poot}--\n"
     ]
    }
   ],
   "source": [
    "nltk.re_show('p[aeiou]{,2}t','pt0Pt1pmt2pat3pertpoot--')"
   ]
  },
  {
   "cell_type": "markdown",
   "metadata": {},
   "source": [
    "d.\t整数或者小数"
   ]
  },
  {
   "cell_type": "code",
   "execution_count": 5,
   "metadata": {},
   "outputs": [
    {
     "name": "stdout",
     "output_type": "stream",
     "text": [
      "ln{1}={0};/\"] cbm {2}e={2}*{2.71828}\n"
     ]
    }
   ],
   "source": [
    "nltk.re_show('\\d+(\\.\\d+)?','ln1=0;/\"] cbm 2e=2*2.71828')"
   ]
  },
  {
   "cell_type": "markdown",
   "metadata": {},
   "source": [
    "e.\t零或多个三字符组合，第1个和第3个是除元音字母的字符，第2个是元音字母，例如bit "
   ]
  },
  {
   "cell_type": "code",
   "execution_count": 6,
   "metadata": {},
   "outputs": [
    {
     "name": "stdout",
     "output_type": "stream",
     "text": [
      "{catDog}P{}I{}G{PiG}s{}h{}e{}e{}p{[o]}\n"
     ]
    }
   ],
   "source": [
    "nltk.re_show('([^aeiou][aeiou][^aeiou])*','catDogPIGPiGsheep[o]')"
   ]
  },
  {
   "cell_type": "markdown",
   "metadata": {},
   "source": [
    "f.\t一串连续的字母数字下划线或者非空白非英文数字下划线字符"
   ]
  },
  {
   "cell_type": "code",
   "execution_count": 7,
   "metadata": {},
   "outputs": [
    {
     "name": "stdout",
     "output_type": "stream",
     "text": [
      "{Zi}{+}{you}{&} {233_} {@*}     {w} {u} {yong}\n"
     ]
    }
   ],
   "source": [
    "nltk.re_show('\\w+|[^\\w\\s]+','Zi+you& 233_ @*     w u yong')"
   ]
  },
  {
   "cell_type": "markdown",
   "metadata": {},
   "source": [
    "#### 2. 创建一个文件，包含词汇和（任意指定）频率，其中每行包含一个词，一个空格和一个正整数，如：fuzzy 53。使用open(filename).readlines()将文件读入Python 链表。接下来，使用split()将每一行分成两个字段，并使用int()将其中的数字转换为一个整数。结果要求是链表形式：[['fuzzy', 53], ...]。"
   ]
  },
  {
   "cell_type": "code",
   "execution_count": 8,
   "metadata": {},
   "outputs": [
    {
     "data": {
      "text/plain": [
       "['zhao 0\\n',\n",
       " 'qian 1\\n',\n",
       " 'sun 2\\n',\n",
       " 'li 3\\n',\n",
       " 'zhou 4\\n',\n",
       " 'wu 5\\n',\n",
       " 'zheng 6\\n',\n",
       " 'wang 7']"
      ]
     },
     "execution_count": 8,
     "metadata": {},
     "output_type": "execute_result"
    }
   ],
   "source": [
    "f=open('hw3_2_16307130293.txt'). readlines();\n",
    "f"
   ]
  },
  {
   "cell_type": "code",
   "execution_count": 9,
   "metadata": {},
   "outputs": [
    {
     "data": {
      "text/plain": [
       "[['zhao', 0],\n",
       " ['qian', 1],\n",
       " ['sun', 2],\n",
       " ['li', 3],\n",
       " ['zhou', 4],\n",
       " ['wu', 5],\n",
       " ['zheng', 6],\n",
       " ['wang', 7]]"
      ]
     },
     "execution_count": 9,
     "metadata": {},
     "output_type": "execute_result"
    }
   ],
   "source": [
    "words=[]\n",
    "for str in f:\n",
    "    words.append(str.split())\n",
    "\n",
    "result=[]\n",
    "for[str,num] in words:\n",
    "    result.append([str,int(num)])\n",
    "result"
   ]
  },
  {
   "cell_type": "markdown",
   "metadata": {},
   "source": [
    "#### 3.\t定义一个变量silly 包含字符串：'newly formed bland ideas are inexpressible in an infuriating way'。编写代码执行以下任务：分割silly 为一个字符串链表，每一个词一个字符串，使用Python 的split()操作，并保存到叫做bland 的变量中；提取silly 中每个词的第二个字母，将它们连接成一个字符串，得到'eoldrnnnna'；使用join()将bland 中的词组合成一个单独的字符串。确保结果字符串中的词以空格隔开。"
   ]
  },
  {
   "cell_type": "code",
   "execution_count": 10,
   "metadata": {},
   "outputs": [
    {
     "data": {
      "text/plain": [
       "['newly',\n",
       " 'formed',\n",
       " 'bland',\n",
       " 'ideas',\n",
       " 'are',\n",
       " 'inexpressible',\n",
       " 'in',\n",
       " 'an',\n",
       " 'infuriating',\n",
       " 'way']"
      ]
     },
     "execution_count": 10,
     "metadata": {},
     "output_type": "execute_result"
    }
   ],
   "source": [
    "silly='newly formed bland ideas are inexpressible in an infuriating way'\n",
    "bland=silly.split()\n",
    "bland"
   ]
  },
  {
   "cell_type": "code",
   "execution_count": 14,
   "metadata": {},
   "outputs": [
    {
     "data": {
      "text/plain": [
       "'eoldrnnnna'"
      ]
     },
     "execution_count": 14,
     "metadata": {},
     "output_type": "execute_result"
    }
   ],
   "source": [
    "silly2=[]\n",
    "for word in bland:\n",
    "    silly2.append(word[1])\n",
    "silly2\n",
    "''.join(silly2)"
   ]
  },
  {
   "cell_type": "code",
   "execution_count": 15,
   "metadata": {},
   "outputs": [
    {
     "data": {
      "text/plain": [
       "'newly formed bland ideas are inexpressible in an infuriating way'"
      ]
     },
     "execution_count": 15,
     "metadata": {},
     "output_type": "execute_result"
    }
   ],
   "source": [
    "silly3=' '.join(bland)\n",
    "silly3"
   ]
  },
  {
   "cell_type": "markdown",
   "metadata": {},
   "source": [
    "#### 4. 写正则表达式以处理email账号。要求如下：@之前必须有内容且只能是字母（大小写）、数字、下划线(_)、减号（-）、点（.）；@和最后一个点（.）之间必须有内容且只能是字母（大小写）、数字、点（.）、减号（-），且两个点不能挨着；最后一个点（.）之后必须有内容且内容只能是字母（大小写）、数字且长度为大于等于2个字节，小于等于6个字节。"
   ]
  },
  {
   "cell_type": "markdown",
   "metadata": {},
   "source": [
    "RE：^(\\w|[.-])+@[a-zA-Z0-9-]+(\\.[a-zA-Z0-9-]+)*\\.[a-zA-Z0-9]{2,6}$"
   ]
  },
  {
   "cell_type": "code",
   "execution_count": 16,
   "metadata": {},
   "outputs": [
    {
     "name": "stdout",
     "output_type": "stream",
     "text": [
      "{qi_jia-wei.12@f-d.u.com}\n"
     ]
    }
   ],
   "source": [
    "nltk.re_show('^(\\w|[.-])+@[a-zA-Z0-9-]+(\\.[a-zA-Z0-9-]+)*\\.[a-zA-Z0-9]{2,6}$','qi_jia-wei.12@f-d.u.com')"
   ]
  }
 ],
 "metadata": {
  "kernelspec": {
   "display_name": "Python 3",
   "language": "python",
   "name": "python3"
  },
  "language_info": {
   "codemirror_mode": {
    "name": "ipython",
    "version": 3
   },
   "file_extension": ".py",
   "mimetype": "text/x-python",
   "name": "python",
   "nbconvert_exporter": "python",
   "pygments_lexer": "ipython3",
   "version": "3.6.2"
  }
 },
 "nbformat": 4,
 "nbformat_minor": 2
}
